{
  "nbformat": 4,
  "nbformat_minor": 0,
  "metadata": {
    "colab": {
      "name": "MLProjectRandomForestClassifieripynb",
      "provenance": [],
      "collapsed_sections": []
    },
    "kernelspec": {
      "name": "python3",
      "display_name": "Python 3"
    }
  },
  "cells": [
    {
      "cell_type": "code",
      "metadata": {
        "id": "IMa7Nw31ha1L",
        "colab_type": "code",
        "colab": {}
      },
      "source": [
        "from warnings import simplefilter\n",
        "\n",
        "simplefilter(action='ignore', category=FutureWarning)"
      ],
      "execution_count": 0,
      "outputs": []
    },
    {
      "cell_type": "code",
      "metadata": {
        "id": "gzZAs7lOjer1",
        "colab_type": "code",
        "colab": {}
      },
      "source": [
        "import numpy as np\n",
        "import pandas as pd\n",
        "import matplotlib as mpl\n",
        "import matplotlib.pyplot as plt\n",
        "import pickle as pkl\n",
        "import math\n",
        "import csv\n",
        "import sklearn\n",
        "from sklearn.ensemble import RandomForestClassifier\n",
        "from sklearn.model_selection import train_test_split\n",
        "from sklearn import metrics\n",
        "from sklearn import preprocessing\n",
        "from sklearn.metrics import classification_report\n",
        "from imblearn.over_sampling import RandomOverSampler\n",
        "from imblearn.over_sampling import SMOTE \n",
        "from imblearn.under_sampling import RandomUnderSampler\n",
        "from imblearn.under_sampling import NearMiss\n",
        "from collections import Counter"
      ],
      "execution_count": 0,
      "outputs": []
    },
    {
      "cell_type": "code",
      "metadata": {
        "id": "KwTAPKGvjez6",
        "colab_type": "code",
        "colab": {}
      },
      "source": [
        "!pip install -U -q PyDrive\n",
        "from pydrive.auth import GoogleAuth\n",
        "from pydrive.drive import GoogleDrive\n",
        "from google.colab import auth\n",
        "from oauth2client.client import GoogleCredentials"
      ],
      "execution_count": 0,
      "outputs": []
    },
    {
      "cell_type": "code",
      "metadata": {
        "id": "kdPfIO_0je2n",
        "colab_type": "code",
        "colab": {}
      },
      "source": [
        "link = 'https://drive.google.com/open?id=17DbBIxtBcBM9Q4MWbeF46ml8WNv_ATKl'\n",
        "\n",
        "fluff, id = link.split('=')"
      ],
      "execution_count": 0,
      "outputs": []
    },
    {
      "cell_type": "code",
      "metadata": {
        "id": "ayi8mAslje5e",
        "colab_type": "code",
        "colab": {}
      },
      "source": [
        "auth.authenticate_user()\n",
        "gauth = GoogleAuth()\n",
        "gauth.credentials = GoogleCredentials.get_application_default()\n",
        "drive = GoogleDrive(gauth)"
      ],
      "execution_count": 0,
      "outputs": []
    },
    {
      "cell_type": "code",
      "metadata": {
        "id": "f7s6cQybje8K",
        "colab_type": "code",
        "colab": {}
      },
      "source": [
        "downloaded = drive.CreateFile({'id':id}) \n",
        "\n",
        "downloaded.GetContentFile('Flight_Weather.csv')\n",
        "\n",
        "dataframe = pd.read_csv('Flight_Weather.csv')"
      ],
      "execution_count": 0,
      "outputs": []
    },
    {
      "cell_type": "code",
      "metadata": {
        "id": "9p5_ZtllwLZd",
        "colab_type": "code",
        "colab": {}
      },
      "source": [
        "data_label_encoder = preprocessing.LabelEncoder()\n",
        "\n",
        "encoded_list = data_label_encoder.fit_transform(dataframe['Airport'])\n",
        "\n",
        "dataframe['EncodedAirport'] = encoded_list"
      ],
      "execution_count": 0,
      "outputs": []
    },
    {
      "cell_type": "code",
      "metadata": {
        "id": "DdQaobQDje_C",
        "colab_type": "code",
        "colab": {}
      },
      "source": [
        "y = dataframe['ArrDel15']\n",
        "\n",
        "dataframe = dataframe.drop(['ArrDel15','FlightDate','Date','Airport','ArrDelayMinutes'],axis = 1)\n",
        "\n",
        "X = dataframe"
      ],
      "execution_count": 0,
      "outputs": []
    },
    {
      "cell_type": "code",
      "metadata": {
        "id": "xpmnP23hjfEt",
        "colab_type": "code",
        "colab": {}
      },
      "source": [
        "X_train, X_test, y_train, y_test = train_test_split(X, y, test_size = 0.25)"
      ],
      "execution_count": 0,
      "outputs": []
    },
    {
      "cell_type": "code",
      "metadata": {
        "id": "FPr6pXyWjfM7",
        "colab_type": "code",
        "outputId": "3bcda283-3108-4fe7-b35c-1c39f1ddbfcc",
        "colab": {
          "base_uri": "https://localhost:8080/",
          "height": 68
        }
      },
      "source": [
        "print(\" Original DataSet Shape : \",Counter(y_train))\n",
        "\n",
        "ros = RandomOverSampler(random_state = 42)\n",
        "\n",
        "X_ros, y_ros = ros.fit_resample(X_train, y_train)\n",
        "\n",
        "print(\" RandomOverSampled DataSet Shape : \",Counter(y_ros))\n",
        "\n",
        "smote = SMOTE(random_state = 42)\n",
        "\n",
        "X_smote, y_smote = smote.fit_resample(X_train, y_train)\n",
        "\n",
        "print(\" SMOTE DataSet Shape : \",Counter(y_smote))"
      ],
      "execution_count": 22,
      "outputs": [
        {
          "output_type": "stream",
          "text": [
            " Original DataSet Shape :  Counter({0.0: 1097546, 1.0: 291028})\n",
            " RandomOverSampled DataSet Shape :  Counter({0.0: 1097546, 1.0: 1097546})\n",
            " SMOTE DataSet Shape :  Counter({0.0: 1097546, 1.0: 1097546})\n"
          ],
          "name": "stdout"
        }
      ]
    },
    {
      "cell_type": "code",
      "metadata": {
        "id": "ziIufdW7jfQB",
        "colab_type": "code",
        "outputId": "ae8a25de-672e-42b2-9f55-30a8ded70e10",
        "colab": {
          "base_uri": "https://localhost:8080/",
          "height": 68
        }
      },
      "source": [
        "print(\" Original DataSet Shape : \",Counter(y_train))\n",
        "\n",
        "rus = RandomUnderSampler(random_state = 42)\n",
        "\n",
        "X_rus, y_rus = rus.fit_resample(X_train,y_train)\n",
        "\n",
        "print(\" RandomUnderampled DataSet Shape : \",Counter(y_rus))\n",
        "\n",
        "nm = NearMiss()\n",
        "\n",
        "X_nm, y_nm = nm.fit_resample(X_train, y_train)\n",
        "\n",
        "print(\" NearMiss DataSet Shape : \",Counter(y_nm))"
      ],
      "execution_count": 23,
      "outputs": [
        {
          "output_type": "stream",
          "text": [
            " Original DataSet Shape :  Counter({0.0: 1097546, 1.0: 291028})\n",
            " RandomUnderampled DataSet Shape :  Counter({0.0: 291028, 1.0: 291028})\n",
            " NearMiss DataSet Shape :  Counter({0.0: 291028, 1.0: 291028})\n"
          ],
          "name": "stdout"
        }
      ]
    },
    {
      "cell_type": "code",
      "metadata": {
        "id": "Z8DDmuaCjfS9",
        "colab_type": "code",
        "colab": {}
      },
      "source": [
        "clf = RandomForestClassifier(n_estimators = 100)"
      ],
      "execution_count": 0,
      "outputs": []
    },
    {
      "cell_type": "code",
      "metadata": {
        "id": "Tei9UrNQ_4FM",
        "colab_type": "code",
        "outputId": "f6361ded-1f5b-4d1e-d545-a8be7cbf14d5",
        "colab": {
          "base_uri": "https://localhost:8080/",
          "height": 237
        }
      },
      "source": [
        "clf.fit(X_train,y_train)\n",
        "\n",
        "y_pred = clf.predict(X_test)\n",
        "\n",
        "filename = \"RFC_Normal.pkl\"\n",
        "\n",
        "pkl.dump(clf,open(filename,'wb'))\n",
        "\n",
        "print(\" Classification Report \")\n",
        "\n",
        "print(\"\\n\\n\")\n",
        "\n",
        "print(metrics.classification_report(y_test,y_pred))"
      ],
      "execution_count": 25,
      "outputs": [
        {
          "output_type": "stream",
          "text": [
            " Classification Report \n",
            "\n",
            "\n",
            "\n",
            "              precision    recall  f1-score   support\n",
            "\n",
            "         0.0       0.93      0.98      0.96    365829\n",
            "         1.0       0.92      0.74      0.82     97030\n",
            "\n",
            "    accuracy                           0.93    462859\n",
            "   macro avg       0.93      0.86      0.89    462859\n",
            "weighted avg       0.93      0.93      0.93    462859\n",
            "\n"
          ],
          "name": "stdout"
        }
      ]
    },
    {
      "cell_type": "code",
      "metadata": {
        "id": "f52yGEuhjfV2",
        "colab_type": "code",
        "outputId": "66b18236-d5b2-4d57-bd27-84e1d4f5708a",
        "colab": {
          "base_uri": "https://localhost:8080/",
          "height": 237
        }
      },
      "source": [
        "clf.fit(X_ros,y_ros)\n",
        "\n",
        "y_pred_ros = clf.predict(X_test)\n",
        "\n",
        "filename = \"RFC_ROS.pkl\"\n",
        "\n",
        "pkl.dump(clf,open(filename,'wb'))\n",
        "\n",
        "print(\" Classification Report \")\n",
        "\n",
        "print(\"\\n\\n\")\n",
        "\n",
        "print(metrics.classification_report(y_test,y_pred_ros))"
      ],
      "execution_count": 26,
      "outputs": [
        {
          "output_type": "stream",
          "text": [
            " Classification Report \n",
            "\n",
            "\n",
            "\n",
            "              precision    recall  f1-score   support\n",
            "\n",
            "         0.0       0.94      0.97      0.96    365829\n",
            "         1.0       0.89      0.78      0.83     97030\n",
            "\n",
            "    accuracy                           0.93    462859\n",
            "   macro avg       0.92      0.88      0.89    462859\n",
            "weighted avg       0.93      0.93      0.93    462859\n",
            "\n"
          ],
          "name": "stdout"
        }
      ]
    },
    {
      "cell_type": "code",
      "metadata": {
        "id": "CdoK0cVGjfZJ",
        "colab_type": "code",
        "outputId": "0898239c-85b9-413b-9630-a31a6a144873",
        "colab": {
          "base_uri": "https://localhost:8080/",
          "height": 237
        }
      },
      "source": [
        "clf.fit(X_smote,y_smote)\n",
        "\n",
        "y_pred_smote = clf.predict(X_test)\n",
        "\n",
        "filename = \"RFC_SMOTE.pkl\"\n",
        "\n",
        "pkl.dump(clf,open(filename,'wb'))\n",
        "\n",
        "print(\" Classification Report\")\n",
        "\n",
        "print(\"\\n\\n\")\n",
        "\n",
        "print(metrics.classification_report(y_test,y_pred_smote))"
      ],
      "execution_count": 27,
      "outputs": [
        {
          "output_type": "stream",
          "text": [
            " Classification Report\n",
            "\n",
            "\n",
            "\n",
            "              precision    recall  f1-score   support\n",
            "\n",
            "         0.0       0.93      0.97      0.95    365829\n",
            "         1.0       0.88      0.74      0.80     97030\n",
            "\n",
            "    accuracy                           0.92    462859\n",
            "   macro avg       0.91      0.85      0.88    462859\n",
            "weighted avg       0.92      0.92      0.92    462859\n",
            "\n"
          ],
          "name": "stdout"
        }
      ]
    },
    {
      "cell_type": "code",
      "metadata": {
        "id": "VLQiBssHjfKX",
        "colab_type": "code",
        "outputId": "6653bb73-f248-4469-aca6-5bc6f2ace5bc",
        "colab": {
          "base_uri": "https://localhost:8080/",
          "height": 237
        }
      },
      "source": [
        "clf.fit(X_rus,y_rus)\n",
        "\n",
        "y_pred_rus = clf.predict(X_test)\n",
        "\n",
        "filename = \"RFC_RUS.pkl\"\n",
        "\n",
        "pkl.dump(clf,open(filename,'wb'))\n",
        "\n",
        "print(\" Classification Report\")\n",
        "\n",
        "print(\"\\n\\n\")\n",
        "\n",
        "print(metrics.classification_report(y_test,y_pred_rus))"
      ],
      "execution_count": 28,
      "outputs": [
        {
          "output_type": "stream",
          "text": [
            " Classification Report\n",
            "\n",
            "\n",
            "\n",
            "              precision    recall  f1-score   support\n",
            "\n",
            "         0.0       0.96      0.93      0.95    365829\n",
            "         1.0       0.78      0.87      0.82     97030\n",
            "\n",
            "    accuracy                           0.92    462859\n",
            "   macro avg       0.87      0.90      0.89    462859\n",
            "weighted avg       0.93      0.92      0.92    462859\n",
            "\n"
          ],
          "name": "stdout"
        }
      ]
    },
    {
      "cell_type": "code",
      "metadata": {
        "id": "SO3h9u9djfJG",
        "colab_type": "code",
        "outputId": "921cdfac-5f68-4af0-fb55-d27c924036ef",
        "colab": {
          "base_uri": "https://localhost:8080/",
          "height": 237
        }
      },
      "source": [
        "clf.fit(X_nm,y_nm)\n",
        "\n",
        "y_pred_nm = clf.predict(X_test)\n",
        "\n",
        "filename = \"RFC_NM.pkl\"\n",
        "\n",
        "pkl.dump(clf,open(filename,'wb'))\n",
        "\n",
        "print(\" Classification Report\")\n",
        "\n",
        "print(\"\\n\\n\")\n",
        "\n",
        "print(metrics.classification_report(y_test,y_pred_nm))"
      ],
      "execution_count": 29,
      "outputs": [
        {
          "output_type": "stream",
          "text": [
            " Classification Report\n",
            "\n",
            "\n",
            "\n",
            "              precision    recall  f1-score   support\n",
            "\n",
            "         0.0       0.95      0.82      0.88    365829\n",
            "         1.0       0.55      0.85      0.67     97030\n",
            "\n",
            "    accuracy                           0.82    462859\n",
            "   macro avg       0.75      0.83      0.77    462859\n",
            "weighted avg       0.87      0.82      0.83    462859\n",
            "\n"
          ],
          "name": "stdout"
        }
      ]
    }
  ]
}