{
  "nbformat": 4,
  "nbformat_minor": 0,
  "metadata": {
    "colab": {
      "name": "MLProjectRegressionTestingGradientBoosting.ipynb",
      "provenance": [],
      "collapsed_sections": []
    },
    "kernelspec": {
      "name": "python3",
      "display_name": "Python 3"
    }
  },
  "cells": [
    {
      "cell_type": "code",
      "metadata": {
        "id": "9nT9oJmWSZAC",
        "colab_type": "code",
        "colab": {}
      },
      "source": [
        "from warnings import simplefilter\n",
        "\n",
        "simplefilter(action='ignore', category=FutureWarning)"
      ],
      "execution_count": 0,
      "outputs": []
    },
    {
      "cell_type": "code",
      "metadata": {
        "id": "KjtUn3r2SZ9h",
        "colab_type": "code",
        "colab": {}
      },
      "source": [
        "!pip install -U -q PyDrive\n",
        "from pydrive.auth import GoogleAuth\n",
        "from pydrive.drive import GoogleDrive\n",
        "from google.colab import auth\n",
        "from oauth2client.client import GoogleCredentials"
      ],
      "execution_count": 0,
      "outputs": []
    },
    {
      "cell_type": "code",
      "metadata": {
        "id": "Sj1CHVBWSclM",
        "colab_type": "code",
        "colab": {}
      },
      "source": [
        "import numpy as np\n",
        "import pandas as pd\n",
        "import matplotlib as mpl\n",
        "import matplotlib.pyplot as plt\n",
        "import pickle as pkl\n",
        "import math\n",
        "import csv\n",
        "import sklearn\n",
        "from sklearn.ensemble import GradientBoostingRegressor\n",
        "from sklearn.ensemble import RandomForestClassifier\n",
        "from sklearn.model_selection import train_test_split\n",
        "from sklearn import metrics\n",
        "from sklearn import preprocessing\n",
        "from sklearn.metrics import classification_report"
      ],
      "execution_count": 0,
      "outputs": []
    },
    {
      "cell_type": "code",
      "metadata": {
        "id": "WRCU85DNShbK",
        "colab_type": "code",
        "colab": {}
      },
      "source": [
        "auth.authenticate_user()\n",
        "gauth = GoogleAuth()\n",
        "gauth.credentials = GoogleCredentials.get_application_default()\n",
        "drive = GoogleDrive(gauth)"
      ],
      "execution_count": 0,
      "outputs": []
    },
    {
      "cell_type": "code",
      "metadata": {
        "id": "MEsu3AD3SkSB",
        "colab_type": "code",
        "colab": {}
      },
      "source": [
        "def get_dataframe(link,filename) :\n",
        "\n",
        "  fluff, id = link.split('=')\n",
        "\n",
        "  downloaded = drive.CreateFile({'id':id}) \n",
        "\n",
        "  downloaded.GetContentFile(filename)\n",
        "\n",
        "  dataframe = pd.read_csv(filename)\n",
        "\n",
        "  data_label_encoder = preprocessing.LabelEncoder()\n",
        "\n",
        "  encoded_list = data_label_encoder.fit_transform(dataframe['Airport'])\n",
        "\n",
        "  dataframe['EncodedAirport'] = encoded_list\n",
        "\n",
        "  return dataframe"
      ],
      "execution_count": 0,
      "outputs": []
    },
    {
      "cell_type": "code",
      "metadata": {
        "id": "ss-G6f1ZSmH-",
        "colab_type": "code",
        "colab": {}
      },
      "source": [
        "def get_model(link,filename) :\n",
        "\n",
        "  fluff, id = link.split('=')\n",
        "\n",
        "  downloaded = drive.CreateFile({'id':id}) \n",
        "\n",
        "  downloaded.GetContentFile(filename)\n",
        "\n",
        "  f = open(filename,\"rb\")\n",
        "\n",
        "  return pkl.load(f)"
      ],
      "execution_count": 0,
      "outputs": []
    },
    {
      "cell_type": "code",
      "metadata": {
        "id": "NEnvpehRSwpf",
        "colab_type": "code",
        "colab": {}
      },
      "source": [
        "dataframe = get_dataframe('https://drive.google.com/open?id=17DbBIxtBcBM9Q4MWbeF46ml8WNv_ATKl','Flight_Weather.csv')"
      ],
      "execution_count": 0,
      "outputs": []
    },
    {
      "cell_type": "code",
      "metadata": {
        "id": "m-TXESCbS5yG",
        "colab_type": "code",
        "colab": {}
      },
      "source": [
        "y = dataframe['ArrDelayMinutes']\n",
        "\n",
        "dataframe = dataframe.drop(['ArrDel15','FlightDate','Date','Airport','ArrDelayMinutes'],axis = 1)\n",
        "\n",
        "X = dataframe"
      ],
      "execution_count": 0,
      "outputs": []
    },
    {
      "cell_type": "code",
      "metadata": {
        "id": "efSqF5k6S7zw",
        "colab_type": "code",
        "colab": {}
      },
      "source": [
        "X_train, X_test, y_train, y_test = train_test_split(X, y,test_size = 0.25)"
      ],
      "execution_count": 0,
      "outputs": []
    },
    {
      "cell_type": "code",
      "metadata": {
        "id": "1YAdO9ySZ3eP",
        "colab_type": "code",
        "colab": {}
      },
      "source": [
        "Y = pd.DataFrame(y_test)"
      ],
      "execution_count": 0,
      "outputs": []
    },
    {
      "cell_type": "code",
      "metadata": {
        "id": "kFB1PpAkwnoD",
        "colab_type": "code",
        "colab": {}
      },
      "source": [
        "X_test['ArrDelayMinutes'] = y_test"
      ],
      "execution_count": 0,
      "outputs": []
    },
    {
      "cell_type": "code",
      "metadata": {
        "id": "NRnGhvcmhyHQ",
        "colab_type": "code",
        "colab": {}
      },
      "source": [
        "Y_15_100= Y.loc[Y['ArrDelayMinutes'].isin(list(range(15,101)))]\n",
        "\n",
        "Y_100_200 = Y.loc[Y['ArrDelayMinutes'].isin(list(range(101,201)))]\n",
        "\n",
        "Y_200_500 = Y.loc[Y['ArrDelayMinutes'].isin(list(range(201,501)))]\n",
        "\n",
        "Y_500_1000 = Y.loc[Y['ArrDelayMinutes'].isin(list(range(501,1001)))]\n",
        "\n",
        "Y_1000_2000 = Y.loc[Y['ArrDelayMinutes'].isin(list(range(1001,2001)))]\n",
        "\n",
        "Y_15_100_1 = Y_15_100['ArrDelayMinutes']\n",
        "\n",
        "Y_100_200_1 = Y_100_200['ArrDelayMinutes']\n",
        "\n",
        "Y_200_500_1 = Y_200_500['ArrDelayMinutes']\n",
        "\n",
        "Y_500_1000_1 = Y_500_1000['ArrDelayMinutes']\n",
        "\n",
        "Y_1000_2000_1 = Y_1000_2000['ArrDelayMinutes']\n",
        "\n"
      ],
      "execution_count": 0,
      "outputs": []
    },
    {
      "cell_type": "code",
      "metadata": {
        "id": "ulaN3ScPxJrj",
        "colab_type": "code",
        "colab": {}
      },
      "source": [
        "X = X_test\n",
        "\n",
        "X_15_100 = X.loc[X['ArrDelayMinutes'].isin(list(range(15,101)))]\n",
        "\n",
        "X_100_200 = X.loc[X['ArrDelayMinutes'].isin(list(range(101,201)))]\n",
        "\n",
        "X_200_500 = X.loc[X['ArrDelayMinutes'].isin(list(range(201,501)))]\n",
        "\n",
        "X_500_1000 = X.loc[X['ArrDelayMinutes'].isin(list(range(501,1001)))]\n",
        "\n",
        "X_1000_2000 = X.loc[X['ArrDelayMinutes'].isin(list(range(1001,2001)))]\n",
        "\n",
        "X_15_100_1 = X_15_100.drop(['ArrDelayMinutes'],axis = 1)\n",
        "\n",
        "X_100_200_1 = X_100_200.drop(['ArrDelayMinutes'],axis = 1)\n",
        "\n",
        "X_200_500_1 = X_200_500.drop(['ArrDelayMinutes'],axis = 1)\n",
        "\n",
        "X_500_1000_1 = X_500_1000.drop(['ArrDelayMinutes'],axis = 1)\n",
        "\n",
        "X_1000_2000_1 = X_1000_2000.drop(['ArrDelayMinutes'],axis = 1)"
      ],
      "execution_count": 0,
      "outputs": []
    },
    {
      "cell_type": "code",
      "metadata": {
        "id": "SDvgLOQOD8OU",
        "colab_type": "code",
        "colab": {}
      },
      "source": [
        "def scores_gbr(X,Y,Z):\n",
        "\n",
        "  gbr = get_model('https://drive.google.com/open?id=1tnNJYIKF2AVpdlXPxOQtMvhOEnOEhFzw','GBR.pkl')\n",
        "\n",
        "  for i,j,k in zip(X,Y,Z):\n",
        "    \n",
        "    print(k)\n",
        "\n",
        "    y_pred = gbr.predict(i)\n",
        "\n",
        "    print(\" Mean Absolute Error : \", metrics.mean_absolute_error(j, y_pred))  \n",
        "\n",
        "    print(\" Mean Squared Error : \", metrics.mean_squared_error(j, y_pred))  \n",
        "\n",
        "    print(\" Root Mean Squared Error : \", np.sqrt(metrics.mean_squared_error(j, y_pred)))\n",
        "\n",
        "    print(\" R2 Score : \",metrics.r2_score(j,y_pred))\n",
        "\n",
        "    print(\"\\n\\n\")"
      ],
      "execution_count": 0,
      "outputs": []
    },
    {
      "cell_type": "code",
      "metadata": {
        "id": "_TtRJRCNzXbX",
        "colab_type": "code",
        "colab": {}
      },
      "source": [
        "X_list = [X_15_100_1,X_100_200_1,X_200_500_1 ,X_500_1000_1 ,X_1000_2000_1]\n",
        "\n",
        "Y_list = [Y_15_100_1,Y_100_200_1,Y_200_500_1,Y_500_1000_1 ,Y_1000_2000_1]\n",
        "\n",
        "Z_list = ['15_100','100_200','200_500','500_1000','1000_2000']"
      ],
      "execution_count": 0,
      "outputs": []
    },
    {
      "cell_type": "code",
      "metadata": {
        "id": "ZJ03gBmwD6Zw",
        "colab_type": "code",
        "outputId": "e0992d8d-233f-4377-d24d-9b432d5b765c",
        "colab": {
          "base_uri": "https://localhost:8080/",
          "height": 696
        }
      },
      "source": [
        "scores_gbr(X_list,Y_list,Z_list)"
      ],
      "execution_count": 18,
      "outputs": [
        {
          "output_type": "stream",
          "text": [
            "15_50\n",
            " Mean Absolute Error :  9.751004447736172\n",
            " Mean Squared Error :  167.37296889198953\n",
            " Root Mean Squared Error :  12.937270534853537\n",
            " R2 Score :  0.6593167985415551\n",
            "\n",
            "\n",
            "\n",
            "100_200\n",
            " Mean Absolute Error :  17.97221478257457\n",
            " Mean Squared Error :  712.6440258927487\n",
            " Root Mean Squared Error :  26.69539334590799\n",
            " R2 Score :  0.03673964957861664\n",
            "\n",
            "\n",
            "\n",
            "200_500\n",
            " Mean Absolute Error :  19.478583469361773\n",
            " Mean Squared Error :  940.8803096780022\n",
            " Root Mean Squared Error :  30.67377234182327\n",
            " R2 Score :  0.7826986812296166\n",
            "\n",
            "\n",
            "\n",
            "500_1000\n",
            " Mean Absolute Error :  15.92608104961016\n",
            " Mean Squared Error :  504.99881581624163\n",
            " Root Mean Squared Error :  22.472178706485973\n",
            " R2 Score :  0.9741969507679286\n",
            "\n",
            "\n",
            "\n",
            "1000_2000\n",
            " Mean Absolute Error :  21.70549207012094\n",
            " Mean Squared Error :  757.8175732341597\n",
            " Root Mean Squared Error :  27.528486577255926\n",
            " R2 Score :  0.9418950447431682\n",
            "\n",
            "\n",
            "\n"
          ],
          "name": "stdout"
        }
      ]
    }
  ]
}
