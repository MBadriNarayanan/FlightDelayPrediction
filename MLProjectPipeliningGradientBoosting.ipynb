{
  "nbformat": 4,
  "nbformat_minor": 0,
  "metadata": {
    "colab": {
      "name": "MLProjectPipeliningGradientBoosting.ipynb",
      "provenance": [],
      "collapsed_sections": []
    },
    "kernelspec": {
      "name": "python3",
      "display_name": "Python 3"
    }
  },
  "cells": [
    {
      "cell_type": "code",
      "metadata": {
        "id": "2yDX_eq9u8Vj",
        "colab_type": "code",
        "colab": {}
      },
      "source": [
        "from warnings import simplefilter\n",
        "\n",
        "simplefilter(action='ignore', category=FutureWarning)"
      ],
      "execution_count": 0,
      "outputs": []
    },
    {
      "cell_type": "code",
      "metadata": {
        "id": "63Kxi4klvcD6",
        "colab_type": "code",
        "colab": {}
      },
      "source": [
        "!pip install -U -q PyDrive\n",
        "from pydrive.auth import GoogleAuth\n",
        "from pydrive.drive import GoogleDrive\n",
        "from google.colab import auth\n",
        "from oauth2client.client import GoogleCredentials"
      ],
      "execution_count": 0,
      "outputs": []
    },
    {
      "cell_type": "code",
      "metadata": {
        "id": "qhRi9T1-vArY",
        "colab_type": "code",
        "colab": {}
      },
      "source": [
        "import numpy as np\n",
        "import pandas as pd\n",
        "import matplotlib as mpl\n",
        "import matplotlib.pyplot as plt\n",
        "import pickle as pkl\n",
        "import math\n",
        "import csv\n",
        "import sklearn\n",
        "from sklearn.ensemble import RandomForestRegressor\n",
        "from sklearn.ensemble import RandomForestClassifier\n",
        "from sklearn.model_selection import train_test_split\n",
        "from sklearn import metrics\n",
        "from sklearn import preprocessing\n",
        "from sklearn.metrics import classification_report\n",
        "from imblearn.over_sampling import RandomOverSampler\n",
        "from imblearn.over_sampling import SMOTE \n",
        "from imblearn.under_sampling import RandomUnderSampler\n",
        "from imblearn.under_sampling import NearMiss\n",
        "from collections import Counter"
      ],
      "execution_count": 0,
      "outputs": []
    },
    {
      "cell_type": "code",
      "metadata": {
        "id": "Gtah_ZqNvf9S",
        "colab_type": "code",
        "colab": {}
      },
      "source": [
        "auth.authenticate_user()\n",
        "gauth = GoogleAuth()\n",
        "gauth.credentials = GoogleCredentials.get_application_default()\n",
        "drive = GoogleDrive(gauth)"
      ],
      "execution_count": 0,
      "outputs": []
    },
    {
      "cell_type": "code",
      "metadata": {
        "id": "SA95Y5JLviDf",
        "colab_type": "code",
        "colab": {}
      },
      "source": [
        "def get_dataframe(link,filename) :\n",
        "\n",
        "  fluff, id = link.split('=')\n",
        "\n",
        "  downloaded = drive.CreateFile({'id':id}) \n",
        "\n",
        "  downloaded.GetContentFile(filename)\n",
        "\n",
        "  dataframe = pd.read_csv(filename)\n",
        "\n",
        "  data_label_encoder = preprocessing.LabelEncoder()\n",
        "\n",
        "  encoded_list = data_label_encoder.fit_transform(dataframe['Airport'])\n",
        "\n",
        "  dataframe['EncodedAirport'] = encoded_list\n",
        "\n",
        "  return dataframe"
      ],
      "execution_count": 0,
      "outputs": []
    },
    {
      "cell_type": "code",
      "metadata": {
        "id": "RAWKu1EbFlpY",
        "colab_type": "code",
        "colab": {}
      },
      "source": [
        "def get_model(link,filename) :\n",
        "\n",
        "  fluff, id = link.split('=')\n",
        "\n",
        "  downloaded = drive.CreateFile({'id':id}) \n",
        "\n",
        "  downloaded.GetContentFile(filename)\n",
        "\n",
        "  f = open(filename,\"rb\")\n",
        "\n",
        "  return pkl.load(f)"
      ],
      "execution_count": 0,
      "outputs": []
    },
    {
      "cell_type": "code",
      "metadata": {
        "id": "OvVjJu2Tw6Gc",
        "colab_type": "code",
        "colab": {}
      },
      "source": [
        "dataframe = get_dataframe('https://drive.google.com/open?id=17DbBIxtBcBM9Q4MWbeF46ml8WNv_ATKl','Flight_Weather.csv')"
      ],
      "execution_count": 0,
      "outputs": []
    },
    {
      "cell_type": "code",
      "metadata": {
        "id": "xoqKEc-w5kCC",
        "colab_type": "code",
        "colab": {}
      },
      "source": [
        "gbc = get_model('https://drive.google.com/open?id=1_etMp4-w4ky3McBpbeemdyrSmIrX6LGN','GBC_ROS.pkl')\n",
        "\n",
        "gbr = get_model('https://drive.google.com/open?id=1tnNJYIKF2AVpdlXPxOQtMvhOEnOEhFzw','GBR.pkl')"
      ],
      "execution_count": 0,
      "outputs": []
    },
    {
      "cell_type": "code",
      "metadata": {
        "id": "1IFjitNm5kn-",
        "colab_type": "code",
        "colab": {}
      },
      "source": [
        "y = dataframe['ArrDel15']\n",
        "\n",
        "y_regression = dataframe['ArrDelayMinutes']\n",
        "\n",
        "dataframe = dataframe.drop(['ArrDel15','FlightDate','Date','Airport','ArrDelayMinutes'],axis = 1)\n",
        "\n",
        "X = dataframe"
      ],
      "execution_count": 0,
      "outputs": []
    },
    {
      "cell_type": "code",
      "metadata": {
        "id": "HZvIV9J95zaa",
        "colab_type": "code",
        "colab": {}
      },
      "source": [
        "X_train, X_test, y_train, y_test ,y_regression_train,y_regression_test= train_test_split(X, y,y_regression,test_size = 0.25)"
      ],
      "execution_count": 0,
      "outputs": []
    },
    {
      "cell_type": "code",
      "metadata": {
        "id": "PiUNwQXS52eq",
        "colab_type": "code",
        "colab": {}
      },
      "source": [
        "gbc.fit(X_test,y_test)\n",
        "\n",
        "y_pred = gbc.predict(X_test)"
      ],
      "execution_count": 0,
      "outputs": []
    },
    {
      "cell_type": "code",
      "metadata": {
        "id": "Ba0UigSj54Vx",
        "colab_type": "code",
        "colab": {}
      },
      "source": [
        "X_test['Predicted'] = y_pred\n",
        "\n",
        "X_test['ArrDelayMinutes'] = y_regression_test\n",
        "\n",
        "X_test = X_test[X_test['Predicted'] == 1]"
      ],
      "execution_count": 0,
      "outputs": []
    },
    {
      "cell_type": "code",
      "metadata": {
        "id": "MynfiOMc560W",
        "colab_type": "code",
        "colab": {}
      },
      "source": [
        "y = X_test['ArrDelayMinutes']\n",
        "\n",
        "X_test = X_test.drop(['Predicted','ArrDelayMinutes'],axis = 1)\n",
        "\n",
        "X = X_test"
      ],
      "execution_count": 0,
      "outputs": []
    },
    {
      "cell_type": "code",
      "metadata": {
        "id": "fOoiJ1ix5-FU",
        "colab_type": "code",
        "colab": {}
      },
      "source": [
        "y_regressor_pred = gbr.predict(X)"
      ],
      "execution_count": 0,
      "outputs": []
    },
    {
      "cell_type": "code",
      "metadata": {
        "id": "UNbTVJ3h5_-j",
        "colab_type": "code",
        "colab": {
          "base_uri": "https://localhost:8080/",
          "height": 170
        },
        "outputId": "8ce51c09-6599-45f6-99c7-3c97c9884abc"
      },
      "source": [
        "print(\"\\n\\n Gradient Boosting \\n\\n\")\n",
        "\n",
        "print(\" Mean Absolute Error : \", metrics.mean_absolute_error(y, y_regressor_pred))  \n",
        "\n",
        "print(\" Mean Squared Error : \", metrics.mean_squared_error(y, y_regressor_pred))  \n",
        "\n",
        "print(\" Root Mean Squared Error : \", np.sqrt(metrics.mean_squared_error(y, y_regressor_pred)))\n",
        "\n",
        "print(\" R2 Score : \",metrics.r2_score(y,y_regressor_pred))"
      ],
      "execution_count": 16,
      "outputs": [
        {
          "output_type": "stream",
          "text": [
            "\n",
            "\n",
            " Gradient Boosting \n",
            "\n",
            "\n",
            " Mean Absolute Error :  12.865160814038436\n",
            " Mean Squared Error :  307.4875528983779\n",
            " Root Mean Squared Error :  17.535323005247946\n",
            " R2 Score :  0.9526379279369195\n"
          ],
          "name": "stdout"
        }
      ]
    },
    {
      "cell_type": "code",
      "metadata": {
        "id": "mCyx-8KH6BbM",
        "colab_type": "code",
        "colab": {
          "base_uri": "https://localhost:8080/",
          "height": 265
        },
        "outputId": "dde515d9-b3ee-4340-a23c-5277714911ab"
      },
      "source": [
        "x_ax = range(len(y))\n",
        "\n",
        "plt.scatter(x_ax, y, s=5, color=\"blue\", label = \"Original\")\n",
        "\n",
        "plt.plot(x_ax, y_regressor_pred, lw=0.8, color=\"red\", label = \"Predicted\")\n",
        "\n",
        "plt.legend()\n",
        "\n",
        "plt.show()"
      ],
      "execution_count": 17,
      "outputs": [
        {
          "output_type": "display_data",
          "data": {
            "image/png": "[encoded data removed]",
            "text/plain": [
              "<Figure size 432x288 with 1 Axes>"
            ]
          },
          "metadata": {
            "tags": []
          }
        }
      ]
    }
  ]
}