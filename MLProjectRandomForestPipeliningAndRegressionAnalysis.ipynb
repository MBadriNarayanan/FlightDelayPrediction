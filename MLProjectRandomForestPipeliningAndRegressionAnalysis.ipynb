{
  "nbformat": 4,
  "nbformat_minor": 0,
  "metadata": {
    "colab": {
      "name": "MLProjectRandomForestClassifierPipeliningAndRegressionAnalysis.ipynb",
      "provenance": []
    },
    "kernelspec": {
      "name": "python3",
      "display_name": "Python 3"
    }
  },
  "cells": [
    {
      "cell_type": "code",
      "metadata": {
        "id": "5u-RcwmZiW5w",
        "colab_type": "code",
        "colab": {}
      },
      "source": [
        "import warnings\n",
        "\n",
        "from warnings import simplefilter\n",
        "\n",
        "from sklearn.exceptions import DataConversionWarning\n",
        "\n",
        "simplefilter(action='ignore', category=FutureWarning)\n",
        "\n",
        "warnings.filterwarnings(action='ignore', category=DataConversionWarning)"
      ],
      "execution_count": 0,
      "outputs": []
    },
    {
      "cell_type": "code",
      "metadata": {
        "id": "CPEvjU31ifpo",
        "colab_type": "code",
        "colab": {}
      },
      "source": [
        "import numpy as np\n",
        "import pandas as pd\n",
        "import matplotlib as mpl\n",
        "import matplotlib.pyplot as plt\n",
        "import pickle as pkl\n",
        "import math\n",
        "import csv\n",
        "import sklearn\n",
        "from sklearn.ensemble import RandomForestClassifier\n",
        "from sklearn.ensemble import RandomForestRegressor\n",
        "from sklearn.model_selection import train_test_split\n",
        "from sklearn import metrics\n",
        "from sklearn import preprocessing\n",
        "from sklearn.metrics import classification_report\n",
        "from imblearn.over_sampling import RandomOverSampler\n",
        "from imblearn.over_sampling import SMOTE \n",
        "from imblearn.under_sampling import RandomUnderSampler\n",
        "from imblearn.under_sampling import NearMiss\n",
        "from collections import Counter"
      ],
      "execution_count": 0,
      "outputs": []
    },
    {
      "cell_type": "code",
      "metadata": {
        "id": "qW_Kww0FifsW",
        "colab_type": "code",
        "colab": {}
      },
      "source": [
        "!pip install -U -q PyDrive\n",
        "from pydrive.auth import GoogleAuth\n",
        "from pydrive.drive import GoogleDrive\n",
        "from google.colab import auth\n",
        "from oauth2client.client import GoogleCredentials"
      ],
      "execution_count": 0,
      "outputs": []
    },
    {
      "cell_type": "code",
      "metadata": {
        "id": "tYeMsdbbizLY",
        "colab_type": "code",
        "colab": {}
      },
      "source": [
        "auth.authenticate_user()\n",
        "gauth = GoogleAuth()\n",
        "gauth.credentials = GoogleCredentials.get_application_default()\n",
        "drive = GoogleDrive(gauth)"
      ],
      "execution_count": 0,
      "outputs": []
    },
    {
      "cell_type": "code",
      "metadata": {
        "id": "CrSn22d3ifzB",
        "colab_type": "code",
        "colab": {}
      },
      "source": [
        "def get_dataframe(link,filename) :\n",
        "\n",
        "  fluff, id = link.split('=')\n",
        "\n",
        "  downloaded = drive.CreateFile({'id':id}) \n",
        "\n",
        "  downloaded.GetContentFile(filename)\n",
        "\n",
        "  dataframe = pd.read_csv(filename)\n",
        "\n",
        "  data_label_encoder = preprocessing.LabelEncoder()\n",
        "\n",
        "  encoded_list = data_label_encoder.fit_transform(dataframe['Airport'])\n",
        "\n",
        "  dataframe['EncodedAirport'] = encoded_list\n",
        "\n",
        "  return dataframe"
      ],
      "execution_count": 0,
      "outputs": []
    },
    {
      "cell_type": "code",
      "metadata": {
        "id": "ux1WivlrifwZ",
        "colab_type": "code",
        "colab": {}
      },
      "source": [
        "dataframe = get_dataframe('https://drive.google.com/open?id=17DbBIxtBcBM9Q4MWbeF46ml8WNv_ATKl','Flight_Weather.csv')"
      ],
      "execution_count": 0,
      "outputs": []
    },
    {
      "cell_type": "code",
      "metadata": {
        "id": "8rGtH2Bli9LJ",
        "colab_type": "code",
        "colab": {}
      },
      "source": [
        "y = dataframe[['ArrDel15','ArrDelayMinutes']]\n",
        "\n",
        "dataframe = dataframe.drop(['FlightDate','Date','Airport','ArrDelayMinutes'],axis = 1)\n",
        "\n",
        "X = dataframe"
      ],
      "execution_count": 0,
      "outputs": []
    },
    {
      "cell_type": "code",
      "metadata": {
        "id": "u2d5So1ejANT",
        "colab_type": "code",
        "colab": {}
      },
      "source": [
        "X_train, X_test, y_train, y_test = train_test_split(X, y, test_size = 0.25)"
      ],
      "execution_count": 0,
      "outputs": []
    },
    {
      "cell_type": "code",
      "metadata": {
        "id": "nIPmquvLn97B",
        "colab_type": "code",
        "colab": {}
      },
      "source": [
        "X_train_regressor = X_train[X_train['ArrDel15'] == 1].drop(['ArrDel15'] , axis = 1)\n",
        "\n",
        "X_test_regressor = X_test[X_test['ArrDel15'] == 1].drop(['ArrDel15'] , axis = 1)\n",
        "\n",
        "X_train_classifier = X_train.drop(['ArrDel15'] , axis = 1)\n",
        "\n",
        "X_test_classifier = X_test.drop(['ArrDel15'] , axis = 1)\n",
        "\n",
        "y_train_classifier = y_train.drop(['ArrDelayMinutes'] , axis = 1)\n",
        "\n",
        "y_test_classifier = y_test.drop(['ArrDelayMinutes'] , axis = 1)\n",
        "\n",
        "y_train_regressor = y_train[y_train['ArrDel15'] == 1].drop(['ArrDel15'] , axis = 1)\n",
        "\n",
        "y_test_regressor = y_test[y_test['ArrDel15'] == 1].drop(['ArrDel15'] , axis = 1)"
      ],
      "execution_count": 0,
      "outputs": []
    },
    {
      "cell_type": "code",
      "metadata": {
        "id": "bGNl3bs8xE_Q",
        "colab_type": "code",
        "colab": {
          "base_uri": "https://localhost:8080/",
          "height": 67
        },
        "outputId": "56e5b873-2444-4c17-cb94-5f9a4e2bf926"
      },
      "source": [
        "print(\" Original DataSet Shape : \",Counter(y_train_classifier.T.squeeze()))\n",
        "\n",
        "ros = RandomOverSampler(random_state = 42)\n",
        "\n",
        "X_ros, y_ros = ros.fit_resample(X_train_classifier, y_train_classifier.T.squeeze())\n",
        "\n",
        "print(\" RandomOverSampled DataSet Shape : \",Counter(y_ros))\n",
        "\n",
        "smote = SMOTE(random_state = 42)\n",
        "\n",
        "X_smote, y_smote = smote.fit_resample(X_train_classifier, y_train_classifier.T.squeeze())\n",
        "\n",
        "print(\" SMOTE DataSet Shape : \",Counter(y_smote))"
      ],
      "execution_count": 20,
      "outputs": [
        {
          "output_type": "stream",
          "text": [
            " Original DataSet Shape :  Counter({0.0: 1097531, 1.0: 291043})\n",
            " RandomOverSampled DataSet Shape :  Counter({0.0: 1097531, 1.0: 1097531})\n",
            " SMOTE DataSet Shape :  Counter({0.0: 1097531, 1.0: 1097531})\n"
          ],
          "name": "stdout"
        }
      ]
    },
    {
      "cell_type": "code",
      "metadata": {
        "id": "VckI0stPxBYy",
        "colab_type": "code",
        "colab": {
          "base_uri": "https://localhost:8080/",
          "height": 67
        },
        "outputId": "48135e12-a54f-4bfd-d383-c690b2e561c6"
      },
      "source": [
        "print(\" Original DataSet Shape : \",Counter(y_train_classifier.T.squeeze()))\n",
        "\n",
        "rus = RandomUnderSampler(random_state = 42)\n",
        "\n",
        "X_rus, y_rus = rus.fit_resample(X_train_classifier, y_train_classifier.T.squeeze())\n",
        "\n",
        "print(\" RandomUnderampled DataSet Shape : \",Counter(y_rus))\n",
        "\n",
        "nm = NearMiss()\n",
        "\n",
        "X_nm, y_nm = nm.fit_resample(X_train_classifier, y_train_classifier.T.squeeze())\n",
        "\n",
        "print(\" NearMiss DataSet Shape : \",Counter(y_nm))"
      ],
      "execution_count": 21,
      "outputs": [
        {
          "output_type": "stream",
          "text": [
            " Original DataSet Shape :  Counter({0.0: 1097531, 1.0: 291043})\n",
            " RandomUnderampled DataSet Shape :  Counter({0.0: 291043, 1.0: 291043})\n",
            " NearMiss DataSet Shape :  Counter({0.0: 291043, 1.0: 291043})\n"
          ],
          "name": "stdout"
        }
      ]
    },
    {
      "cell_type": "code",
      "metadata": {
        "id": "zZGu27pPjAcq",
        "colab_type": "code",
        "colab": {}
      },
      "source": [
        "clf = RandomForestClassifier(n_estimators = 100)"
      ],
      "execution_count": 0,
      "outputs": []
    },
    {
      "cell_type": "code",
      "metadata": {
        "id": "BbxQsf7QjAWD",
        "colab_type": "code",
        "colab": {
          "base_uri": "https://localhost:8080/",
          "height": 232
        },
        "outputId": "f1661d1c-287d-4ec9-c797-635aa5989105"
      },
      "source": [
        "clf.fit(X_train_classifier,y_train_classifier)\n",
        "\n",
        "y_pred = clf.predict(X_test_classifier)\n",
        "\n",
        "print(\" Classification Report \")\n",
        "\n",
        "print(\"\\n\\n\")\n",
        "\n",
        "print(metrics.classification_report(y_test_classifier,y_pred))"
      ],
      "execution_count": 24,
      "outputs": [
        {
          "output_type": "stream",
          "text": [
            " Classification Report \n",
            "\n",
            "\n",
            "\n",
            "              precision    recall  f1-score   support\n",
            "\n",
            "         0.0       0.93      0.98      0.96    365844\n",
            "         1.0       0.92      0.74      0.82     97015\n",
            "\n",
            "    accuracy                           0.93    462859\n",
            "   macro avg       0.93      0.86      0.89    462859\n",
            "weighted avg       0.93      0.93      0.93    462859\n",
            "\n"
          ],
          "name": "stdout"
        }
      ]
    },
    {
      "cell_type": "code",
      "metadata": {
        "id": "0WkLd-kqj8Jz",
        "colab_type": "code",
        "colab": {
          "base_uri": "https://localhost:8080/",
          "height": 232
        },
        "outputId": "b12d066e-ca3c-4562-c2aa-06bfef4ab51a"
      },
      "source": [
        "clf.fit(X_smote,y_smote)\n",
        "\n",
        "y_pred_smote = clf.predict(X_test_classifier)\n",
        "\n",
        "print(\" Classification Report\")\n",
        "\n",
        "print(\"\\n\\n\")\n",
        "\n",
        "print(metrics.classification_report(y_test_classifier,y_pred_smote))"
      ],
      "execution_count": 25,
      "outputs": [
        {
          "output_type": "stream",
          "text": [
            " Classification Report\n",
            "\n",
            "\n",
            "\n",
            "              precision    recall  f1-score   support\n",
            "\n",
            "         0.0       0.93      0.97      0.95    365844\n",
            "         1.0       0.88      0.74      0.80     97015\n",
            "\n",
            "    accuracy                           0.92    462859\n",
            "   macro avg       0.91      0.85      0.88    462859\n",
            "weighted avg       0.92      0.92      0.92    462859\n",
            "\n"
          ],
          "name": "stdout"
        }
      ]
    },
    {
      "cell_type": "code",
      "metadata": {
        "id": "X8y1qcXijjto",
        "colab_type": "code",
        "colab": {}
      },
      "source": [
        ""
      ],
      "execution_count": 0,
      "outputs": []
    },
    {
      "cell_type": "code",
      "metadata": {
        "id": "0p_gli2zkgza",
        "colab_type": "code",
        "colab": {}
      },
      "source": [
        "rfr = RandomForestRegressor()"
      ],
      "execution_count": 0,
      "outputs": []
    },
    {
      "cell_type": "code",
      "metadata": {
        "id": "Qw7COXI6khWx",
        "colab_type": "code",
        "colab": {}
      },
      "source": [
        "rfr.fit(X_train_regressor,y_train_regressor)\n",
        "\n",
        "y_pred = rfr.predict(X_test_regressor)"
      ],
      "execution_count": 0,
      "outputs": []
    },
    {
      "cell_type": "code",
      "metadata": {
        "id": "FSy_AP8Xknio",
        "colab_type": "code",
        "colab": {
          "base_uri": "https://localhost:8080/",
          "height": 83
        },
        "outputId": "e2d19518-703c-4108-c571-c336f26a3370"
      },
      "source": [
        "print(\" Mean Absolute Error : \", metrics.mean_absolute_error(y_test_regressor, y_pred))  \n",
        "\n",
        "print(\" Mean Squared Error : \", metrics.mean_squared_error(y_test_regressor, y_pred))  \n",
        "\n",
        "print(\" Root Mean Squared Error : \", np.sqrt(metrics.mean_squared_error(y_test_regressor, y_pred)))\n",
        "\n",
        "print(\" R2 Score : \",metrics.r2_score(y_test_regressor,y_pred))"
      ],
      "execution_count": 28,
      "outputs": [
        {
          "output_type": "stream",
          "text": [
            " Mean Absolute Error :  6.096832757820955\n",
            " Mean Squared Error :  113.36967769623254\n",
            " Root Mean Squared Error :  10.647519790835448\n",
            " R2 Score :  0.9783283954034779\n"
          ],
          "name": "stdout"
        }
      ]
    },
    {
      "cell_type": "code",
      "metadata": {
        "id": "cgDRewOFmkes",
        "colab_type": "code",
        "colab": {}
      },
      "source": [
        ""
      ],
      "execution_count": 0,
      "outputs": []
    },
    {
      "cell_type": "code",
      "metadata": {
        "id": "K3CZkILokhZ7",
        "colab_type": "code",
        "colab": {}
      },
      "source": [
        "Y = y_test_regressor"
      ],
      "execution_count": 0,
      "outputs": []
    },
    {
      "cell_type": "code",
      "metadata": {
        "id": "lODMspsJElyw",
        "colab_type": "code",
        "colab": {}
      },
      "source": [
        "X_test_regression_analysis =  X_test_regressor"
      ],
      "execution_count": 0,
      "outputs": []
    },
    {
      "cell_type": "code",
      "metadata": {
        "id": "GFszthqwkoEO",
        "colab_type": "code",
        "colab": {}
      },
      "source": [
        "X_test_regression_analysis['ArrDelayMinutes'] = y_test_regressor"
      ],
      "execution_count": 0,
      "outputs": []
    },
    {
      "cell_type": "code",
      "metadata": {
        "id": "6r9VBfrskoG_",
        "colab_type": "code",
        "colab": {}
      },
      "source": [
        "Y_15_100= Y.loc[Y['ArrDelayMinutes'].isin(list(range(15,101)))]\n",
        "\n",
        "Y_100_200 = Y.loc[Y['ArrDelayMinutes'].isin(list(range(101,201)))]\n",
        "\n",
        "Y_200_500 = Y.loc[Y['ArrDelayMinutes'].isin(list(range(201,501)))]\n",
        "\n",
        "Y_500_1000 = Y.loc[Y['ArrDelayMinutes'].isin(list(range(501,1001)))]\n",
        "\n",
        "Y_1000_2000 = Y.loc[Y['ArrDelayMinutes'].isin(list(range(1001,2001)))]\n",
        "\n",
        "Y_15_100_1 = Y_15_100['ArrDelayMinutes']\n",
        "\n",
        "Y_100_200_1 = Y_100_200['ArrDelayMinutes']\n",
        "\n",
        "Y_200_500_1 = Y_200_500['ArrDelayMinutes']\n",
        "\n",
        "Y_500_1000_1 = Y_500_1000['ArrDelayMinutes']\n",
        "\n",
        "Y_1000_2000_1 = Y_1000_2000['ArrDelayMinutes']\n",
        "\n",
        "\n",
        "X = X_test_regression_analysis\n",
        "\n",
        "X_15_100 = X.loc[X['ArrDelayMinutes'].isin(list(range(15,101)))]\n",
        "\n",
        "X_100_200 = X.loc[X['ArrDelayMinutes'].isin(list(range(101,201)))]\n",
        "\n",
        "X_200_500 = X.loc[X['ArrDelayMinutes'].isin(list(range(201,501)))]\n",
        "\n",
        "X_500_1000 = X.loc[X['ArrDelayMinutes'].isin(list(range(501,1001)))]\n",
        "\n",
        "X_1000_2000 = X.loc[X['ArrDelayMinutes'].isin(list(range(1001,2001)))]\n",
        "\n",
        "X_15_100_1 = X_15_100.drop(['ArrDelayMinutes'],axis = 1)\n",
        "\n",
        "X_100_200_1 = X_100_200.drop(['ArrDelayMinutes'],axis = 1)\n",
        "\n",
        "X_200_500_1 = X_200_500.drop(['ArrDelayMinutes'],axis = 1)\n",
        "\n",
        "X_500_1000_1 = X_500_1000.drop(['ArrDelayMinutes'],axis = 1)\n",
        "\n",
        "X_1000_2000_1 = X_1000_2000.drop(['ArrDelayMinutes'],axis = 1)"
      ],
      "execution_count": 0,
      "outputs": []
    },
    {
      "cell_type": "code",
      "metadata": {
        "id": "LquIJNOvk0fL",
        "colab_type": "code",
        "colab": {}
      },
      "source": [
        "def scores_rfr(X,Y,Z):\n",
        "\n",
        "  for i,j,k in zip(X,Y,Z):\n",
        "    \n",
        "    print(k)\n",
        "\n",
        "    y_pred = rfr.predict(i)\n",
        "\n",
        "    print(\" Mean Absolute Error : \", metrics.mean_absolute_error(j, y_pred))  \n",
        "\n",
        "    print(\" Mean Squared Error : \", metrics.mean_squared_error(j, y_pred))  \n",
        "\n",
        "    print(\" Root Mean Squared Error : \", np.sqrt(metrics.mean_squared_error(j, y_pred)))\n",
        "\n",
        "    print(\" R2 Score : \",metrics.r2_score(j,y_pred))\n",
        "\n",
        "    print(\"\\n\\n\")"
      ],
      "execution_count": 0,
      "outputs": []
    },
    {
      "cell_type": "code",
      "metadata": {
        "id": "vdgtexUzk0iP",
        "colab_type": "code",
        "colab": {}
      },
      "source": [
        "X_list = [X_15_100_1,X_100_200_1,X_200_500_1 ,X_500_1000_1 ,X_1000_2000_1]\n",
        "\n",
        "Y_list = [Y_15_100_1,Y_100_200_1,Y_200_500_1,Y_500_1000_1 ,Y_1000_2000_1]\n",
        "\n",
        "Z_list = ['15_100','100_200','200_500','500_1000','1000_2000']"
      ],
      "execution_count": 0,
      "outputs": []
    },
    {
      "cell_type": "code",
      "metadata": {
        "id": "0MKwUJA5k8mh",
        "colab_type": "code",
        "colab": {
          "base_uri": "https://localhost:8080/",
          "height": 677
        },
        "outputId": "cdf8d336-7995-4aff-a7a4-a88c7d22fede"
      },
      "source": [
        "scores_rfr(X_list,Y_list,Z_list)"
      ],
      "execution_count": 36,
      "outputs": [
        {
          "output_type": "stream",
          "text": [
            "15_100\n",
            " Mean Absolute Error :  4.81122875511109\n",
            " Mean Squared Error :  63.10943784053402\n",
            " Root Mean Squared Error :  7.944144877866592\n",
            " R2 Score :  0.8735729421677457\n",
            "\n",
            "\n",
            "\n",
            "100_200\n",
            " Mean Absolute Error :  11.66538892138023\n",
            " Mean Squared Error :  309.04766618765143\n",
            " Root Mean Squared Error :  17.57975159630111\n",
            " R2 Score :  0.5790607282843185\n",
            "\n",
            "\n",
            "\n",
            "200_500\n",
            " Mean Absolute Error :  15.661889584519068\n",
            " Mean Squared Error :  551.1536088787707\n",
            " Root Mean Squared Error :  23.476660939724173\n",
            " R2 Score :  0.8675537424392712\n",
            "\n",
            "\n",
            "\n",
            "500_1000\n",
            " Mean Absolute Error :  16.395034965034963\n",
            " Mean Squared Error :  532.3760755244755\n",
            " Root Mean Squared Error :  23.073276220001258\n",
            " R2 Score :  0.9744964909643812\n",
            "\n",
            "\n",
            "\n",
            "1000_2000\n",
            " Mean Absolute Error :  29.676000000000002\n",
            " Mean Squared Error :  1726.410220000001\n",
            " Root Mean Squared Error :  41.550092900016494\n",
            " R2 Score :  0.9435842775906901\n",
            "\n",
            "\n",
            "\n"
          ],
          "name": "stdout"
        }
      ]
    },
    {
      "cell_type": "code",
      "metadata": {
        "id": "C5W_PHZ6k_HZ",
        "colab_type": "code",
        "colab": {}
      },
      "source": [
        ""
      ],
      "execution_count": 0,
      "outputs": []
    },
    {
      "cell_type": "code",
      "metadata": {
        "id": "kXq69vrXk_Ka",
        "colab_type": "code",
        "colab": {}
      },
      "source": [
        "X_test_pipeline = X_test_classifier\n",
        "\n",
        "X_train_pipeline = X_train_classifier\n",
        "\n",
        "y_test_pipeline = y_test_classifier\n",
        "\n",
        "y_train_classifier = y_train_classifier"
      ],
      "execution_count": 0,
      "outputs": []
    },
    {
      "cell_type": "code",
      "metadata": {
        "id": "pmOFrUF3k_N3",
        "colab_type": "code",
        "colab": {}
      },
      "source": [
        "clf.fit(X_test_pipeline,y_test_pipeline)\n",
        "\n",
        "y_pred_pipeline = clf.predict(X_test_pipeline)"
      ],
      "execution_count": 0,
      "outputs": []
    },
    {
      "cell_type": "code",
      "metadata": {
        "id": "ffDCobh_lLvL",
        "colab_type": "code",
        "colab": {}
      },
      "source": [
        "X_test_pipeline['Predicted'] = y_pred_pipeline\n",
        "\n",
        "X_test_pipeline['ArrDelayMinutes'] = y_test_regressor\n",
        "\n",
        "X_test_pipeline = X_test_pipeline[X_test_pipeline['Predicted'] == 1]"
      ],
      "execution_count": 0,
      "outputs": []
    },
    {
      "cell_type": "code",
      "metadata": {
        "id": "YxiAs-5-lR8a",
        "colab_type": "code",
        "colab": {}
      },
      "source": [
        "y_pipeline = X_test_pipeline['ArrDelayMinutes']\n",
        "\n",
        "X_test_pipeline = X_test_pipeline.drop(['Predicted','ArrDelayMinutes'],axis = 1)\n",
        "\n",
        "X_pipeline = X_test_pipeline"
      ],
      "execution_count": 0,
      "outputs": []
    },
    {
      "cell_type": "code",
      "metadata": {
        "id": "oUoZe9FhlUCZ",
        "colab_type": "code",
        "colab": {}
      },
      "source": [
        "y_regressor_pipeline_pred = rfr.predict(X_pipeline)"
      ],
      "execution_count": 0,
      "outputs": []
    },
    {
      "cell_type": "code",
      "metadata": {
        "id": "WBztn_OClZgR",
        "colab_type": "code",
        "colab": {
          "base_uri": "https://localhost:8080/",
          "height": 166
        },
        "outputId": "a1b568a1-c2c0-4487-d412-f4e7efaf5dd4"
      },
      "source": [
        "print(\"\\n\\n Random Forest Regressor \\n\\n\")\n",
        "\n",
        "print(\" Mean Absolute Error : \", metrics.mean_absolute_error(y_pipeline, y_regressor_pipeline_pred))  \n",
        "\n",
        "print(\" Mean Squared Error : \", metrics.mean_squared_error(y_pipeline, y_regressor_pipeline_pred))  \n",
        "\n",
        "print(\" Root Mean Squared Error : \", np.sqrt(metrics.mean_squared_error(y_pipeline, y_regressor_pipeline_pred)))\n",
        "\n",
        "print(\" R2 Score : \",metrics.r2_score(y_pipeline,y_regressor_pipeline_pred))"
      ],
      "execution_count": 44,
      "outputs": [
        {
          "output_type": "stream",
          "text": [
            "\n",
            "\n",
            " Random Forest Regressor \n",
            "\n",
            "\n",
            " Mean Absolute Error :  6.096886634918671\n",
            " Mean Squared Error :  113.3708384851671\n",
            " Root Mean Squared Error :  10.647574300523434\n",
            " R2 Score :  0.9783283029018932\n"
          ],
          "name": "stdout"
        }
      ]
    }
  ]
}