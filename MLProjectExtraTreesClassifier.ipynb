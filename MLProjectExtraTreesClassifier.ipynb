{
  "nbformat": 4,
  "nbformat_minor": 0,
  "metadata": {
    "colab": {
      "name": "MLProjectExtraTreesClassifier.ipynb",
      "provenance": [],
      "collapsed_sections": [],
      "machine_shape": "hm"
    },
    "kernelspec": {
      "name": "python3",
      "display_name": "Python 3"
    }
  },
  "cells": [
    {
      "cell_type": "code",
      "metadata": {
        "id": "hEhyFCA9iN2n",
        "colab_type": "code",
        "colab": {}
      },
      "source": [
        "from warnings import simplefilter\n",
        "\n",
        "simplefilter(action='ignore', category=FutureWarning)"
      ],
      "execution_count": 0,
      "outputs": []
    },
    {
      "cell_type": "code",
      "metadata": {
        "id": "zPzm3--fiSar",
        "colab_type": "code",
        "colab": {}
      },
      "source": [
        "!pip install -U -q PyDrive\n",
        "from pydrive.auth import GoogleAuth\n",
        "from pydrive.drive import GoogleDrive\n",
        "from google.colab import auth\n",
        "from oauth2client.client import GoogleCredentials"
      ],
      "execution_count": 0,
      "outputs": []
    },
    {
      "cell_type": "code",
      "metadata": {
        "id": "Rim5w3d8iSdF",
        "colab_type": "code",
        "colab": {}
      },
      "source": [
        "import numpy as np\n",
        "import pandas as pd\n",
        "import matplotlib as mpl\n",
        "import matplotlib.pyplot as plt\n",
        "import pickle as pkl\n",
        "import math\n",
        "import csv\n",
        "import sklearn\n",
        "from sklearn.model_selection import train_test_split\n",
        "from sklearn import metrics\n",
        "from sklearn import preprocessing\n",
        "from sklearn.metrics import classification_report\n",
        "from sklearn.ensemble import ExtraTreesClassifier\n",
        "from imblearn.over_sampling import RandomOverSampler\n",
        "from imblearn.over_sampling import SMOTE \n",
        "from imblearn.under_sampling import RandomUnderSampler\n",
        "from imblearn.under_sampling import NearMiss\n",
        "from collections import Counter"
      ],
      "execution_count": 0,
      "outputs": []
    },
    {
      "cell_type": "code",
      "metadata": {
        "id": "JZwdK6FoiSf_",
        "colab_type": "code",
        "colab": {}
      },
      "source": [
        "link = 'https://drive.google.com/open?id=17DbBIxtBcBM9Q4MWbeF46ml8WNv_ATKl'\n",
        "\n",
        "fluff, id = link.split('=')"
      ],
      "execution_count": 0,
      "outputs": []
    },
    {
      "cell_type": "code",
      "metadata": {
        "id": "n-Xm4a5xiSn6",
        "colab_type": "code",
        "colab": {}
      },
      "source": [
        "auth.authenticate_user()\n",
        "gauth = GoogleAuth()\n",
        "gauth.credentials = GoogleCredentials.get_application_default()\n",
        "drive = GoogleDrive(gauth)"
      ],
      "execution_count": 0,
      "outputs": []
    },
    {
      "cell_type": "code",
      "metadata": {
        "id": "ngYfwZc-iSqn",
        "colab_type": "code",
        "colab": {}
      },
      "source": [
        "downloaded = drive.CreateFile({'id':id}) \n",
        "\n",
        "downloaded.GetContentFile('Flight_Weather.csv')\n",
        "\n",
        "dataframe = pd.read_csv('Flight_Weather.csv')"
      ],
      "execution_count": 0,
      "outputs": []
    },
    {
      "cell_type": "code",
      "metadata": {
        "id": "u_zgdig4wI_u",
        "colab_type": "code",
        "colab": {}
      },
      "source": [
        "data_label_encoder = preprocessing.LabelEncoder()\n",
        "\n",
        "encoded_list = data_label_encoder.fit_transform(dataframe['Airport'])\n",
        "\n",
        "dataframe['EncodedAirport'] = encoded_list"
      ],
      "execution_count": 0,
      "outputs": []
    },
    {
      "cell_type": "code",
      "metadata": {
        "id": "nxjldxydiSvn",
        "colab_type": "code",
        "colab": {}
      },
      "source": [
        "y = dataframe['ArrDel15']\n",
        "\n",
        "dataframe = dataframe.drop(['ArrDel15','FlightDate','Date','Airport','ArrDelayMinutes'],axis = 1)\n",
        "\n",
        "X = dataframe"
      ],
      "execution_count": 0,
      "outputs": []
    },
    {
      "cell_type": "code",
      "metadata": {
        "id": "EzJnb1MOiS1K",
        "colab_type": "code",
        "colab": {}
      },
      "source": [
        "X_train, X_test, y_train, y_test = train_test_split(X, y, test_size = 0.25)"
      ],
      "execution_count": 0,
      "outputs": []
    },
    {
      "cell_type": "code",
      "metadata": {
        "id": "oHmhHw0piS4E",
        "colab_type": "code",
        "outputId": "ebc5327a-77c2-4ac9-d688-47299b9804b6",
        "colab": {
          "base_uri": "https://localhost:8080/",
          "height": 68
        }
      },
      "source": [
        "print(\" Original DataSet Shape : \",Counter(y_train))\n",
        "\n",
        "ros = RandomOverSampler(random_state = 42)\n",
        "\n",
        "X_ros, y_ros = ros.fit_resample(X_train, y_train)\n",
        "\n",
        "print(\" RandomOverSampled DataSet Shape : \",Counter(y_ros))\n",
        "\n",
        "smote = SMOTE(random_state = 42)\n",
        "\n",
        "X_smote, y_smote = smote.fit_resample(X_train, y_train)\n",
        "\n",
        "print(\" SMOTE DataSet Shape : \",Counter(y_smote))"
      ],
      "execution_count": 10,
      "outputs": [
        {
          "output_type": "stream",
          "text": [
            " Original DataSet Shape :  Counter({0.0: 1097424, 1.0: 291150})\n",
            " RandomOverSampled DataSet Shape :  Counter({1.0: 1097424, 0.0: 1097424})\n",
            " SMOTE DataSet Shape :  Counter({1.0: 1097424, 0.0: 1097424})\n"
          ],
          "name": "stdout"
        }
      ]
    },
    {
      "cell_type": "code",
      "metadata": {
        "id": "MSA6X22MihMw",
        "colab_type": "code",
        "outputId": "1d160318-1fc9-4b9c-8709-cca4e0b26be8",
        "colab": {
          "base_uri": "https://localhost:8080/",
          "height": 68
        }
      },
      "source": [
        "print(\" Original DataSet Shape : \",Counter(y_train))\n",
        "\n",
        "rus = RandomUnderSampler(random_state = 42)\n",
        "\n",
        "X_rus, y_rus = rus.fit_resample(X_train,y_train)\n",
        "\n",
        "print(\" RandomUnderampled DataSet Shape : \",Counter(y_rus))\n",
        "\n",
        "nm = NearMiss()\n",
        "\n",
        "X_nm, y_nm = nm.fit_resample(X_train, y_train)\n",
        "\n",
        "print(\" NearMiss DataSet Shape : \",Counter(y_nm))"
      ],
      "execution_count": 11,
      "outputs": [
        {
          "output_type": "stream",
          "text": [
            " Original DataSet Shape :  Counter({0.0: 1097424, 1.0: 291150})\n",
            " RandomUnderampled DataSet Shape :  Counter({0.0: 291150, 1.0: 291150})\n",
            " NearMiss DataSet Shape :  Counter({0.0: 291150, 1.0: 291150})\n"
          ],
          "name": "stdout"
        }
      ]
    },
    {
      "cell_type": "code",
      "metadata": {
        "id": "SnWKRYtwihP6",
        "colab_type": "code",
        "colab": {}
      },
      "source": [
        "clf = ExtraTreesClassifier(n_estimators = 100)"
      ],
      "execution_count": 0,
      "outputs": []
    },
    {
      "cell_type": "code",
      "metadata": {
        "id": "9sHRFe_t_5UP",
        "colab_type": "code",
        "outputId": "9cbc8fac-6e15-4b1d-baa1-6841a4101c30",
        "colab": {
          "base_uri": "https://localhost:8080/",
          "height": 237
        }
      },
      "source": [
        "clf.fit(X_train,y_train)\n",
        "\n",
        "y_pred = clf.predict(X_test)\n",
        "\n",
        "filename = \"ETC_Normal.pkl\"\n",
        "\n",
        "pkl.dump(clf,open(filename,'wb'))\n",
        "\n",
        "print(\" Classification Report \")\n",
        "\n",
        "print(\"\\n\\n\")\n",
        "\n",
        "print(metrics.classification_report(y_test,y_pred))"
      ],
      "execution_count": 13,
      "outputs": [
        {
          "output_type": "stream",
          "text": [
            " Classification Report \n",
            "\n",
            "\n",
            "\n",
            "              precision    recall  f1-score   support\n",
            "\n",
            "         0.0       0.94      0.97      0.95    365951\n",
            "         1.0       0.87      0.75      0.81     96908\n",
            "\n",
            "    accuracy                           0.93    462859\n",
            "   macro avg       0.90      0.86      0.88    462859\n",
            "weighted avg       0.92      0.93      0.92    462859\n",
            "\n"
          ],
          "name": "stdout"
        }
      ]
    },
    {
      "cell_type": "code",
      "metadata": {
        "id": "gwzXh0i0ihTC",
        "colab_type": "code",
        "outputId": "4a4a408b-8c42-4010-fd9e-51ae79c5b6d7",
        "colab": {
          "base_uri": "https://localhost:8080/",
          "height": 237
        }
      },
      "source": [
        "clf.fit(X_ros,y_ros)\n",
        "\n",
        "y_pred_ros = clf.predict(X_test)\n",
        "\n",
        "filename = \"ETC_ROS.pkl\"\n",
        "\n",
        "pkl.dump(clf,open(filename,'wb'))\n",
        "\n",
        "print(\" Classification Report \")\n",
        "\n",
        "print(\"\\n\\n\")\n",
        "\n",
        "print(metrics.classification_report(y_test,y_pred_ros))"
      ],
      "execution_count": 14,
      "outputs": [
        {
          "output_type": "stream",
          "text": [
            " Classification Report \n",
            "\n",
            "\n",
            "\n",
            "              precision    recall  f1-score   support\n",
            "\n",
            "         0.0       0.94      0.97      0.95    365951\n",
            "         1.0       0.88      0.75      0.81     96908\n",
            "\n",
            "    accuracy                           0.92    462859\n",
            "   macro avg       0.91      0.86      0.88    462859\n",
            "weighted avg       0.92      0.92      0.92    462859\n",
            "\n"
          ],
          "name": "stdout"
        }
      ]
    },
    {
      "cell_type": "code",
      "metadata": {
        "id": "vcgjZMGuiSy-",
        "colab_type": "code",
        "outputId": "2544f703-df9a-408e-9126-312e91db7ff9",
        "colab": {
          "base_uri": "https://localhost:8080/",
          "height": 237
        }
      },
      "source": [
        "clf.fit(X_smote,y_smote)\n",
        "\n",
        "y_pred_smote = clf.predict(X_test)\n",
        "\n",
        "filename = \"ETC_SMOTE.pkl\"\n",
        "\n",
        "pkl.dump(clf,open(filename,'wb'))\n",
        "\n",
        "print(\" Classification Report\")\n",
        "\n",
        "print(\"\\n\\n\")\n",
        "\n",
        "print(metrics.classification_report(y_test,y_pred_smote))"
      ],
      "execution_count": 15,
      "outputs": [
        {
          "output_type": "stream",
          "text": [
            " Classification Report\n",
            "\n",
            "\n",
            "\n",
            "              precision    recall  f1-score   support\n",
            "\n",
            "         0.0       0.94      0.96      0.95    365951\n",
            "         1.0       0.83      0.76      0.80     96908\n",
            "\n",
            "    accuracy                           0.92    462859\n",
            "   macro avg       0.89      0.86      0.87    462859\n",
            "weighted avg       0.92      0.92      0.92    462859\n",
            "\n"
          ],
          "name": "stdout"
        }
      ]
    },
    {
      "cell_type": "code",
      "metadata": {
        "id": "xvuaGy1kiStr",
        "colab_type": "code",
        "outputId": "1c5ad1ef-1c67-41ea-d6c2-63cc4b73522f",
        "colab": {
          "base_uri": "https://localhost:8080/",
          "height": 237
        }
      },
      "source": [
        "clf.fit(X_rus,y_rus)\n",
        "\n",
        "y_pred_rus = clf.predict(X_test)\n",
        "\n",
        "filename = \"ETC_RUS.pkl\"\n",
        "\n",
        "pkl.dump(clf,open(filename,'wb'))\n",
        "\n",
        "print(\" Classification Report\")\n",
        "\n",
        "print(\"\\n\\n\")\n",
        "\n",
        "print(metrics.classification_report(y_test,y_pred_rus))"
      ],
      "execution_count": 16,
      "outputs": [
        {
          "output_type": "stream",
          "text": [
            " Classification Report\n",
            "\n",
            "\n",
            "\n",
            "              precision    recall  f1-score   support\n",
            "\n",
            "         0.0       0.96      0.92      0.94    365951\n",
            "         1.0       0.73      0.84      0.78     96908\n",
            "\n",
            "    accuracy                           0.90    462859\n",
            "   macro avg       0.84      0.88      0.86    462859\n",
            "weighted avg       0.91      0.90      0.90    462859\n",
            "\n"
          ],
          "name": "stdout"
        }
      ]
    },
    {
      "cell_type": "code",
      "metadata": {
        "id": "EoZ4NJeUiSkw",
        "colab_type": "code",
        "outputId": "bbd24679-2b09-4779-873c-4637f8507323",
        "colab": {
          "base_uri": "https://localhost:8080/",
          "height": 237
        }
      },
      "source": [
        "clf.fit(X_nm,y_nm)\n",
        "\n",
        "y_pred_nm = clf.predict(X_test)\n",
        "\n",
        "filename = \"ETC_NM.pkl\"\n",
        "\n",
        "pkl.dump(clf,open(filename,'wb'))\n",
        "\n",
        "print(\" Classification Report\")\n",
        "\n",
        "print(\"\\n\\n\")\n",
        "\n",
        "print(metrics.classification_report(y_test,y_pred_nm))"
      ],
      "execution_count": 17,
      "outputs": [
        {
          "output_type": "stream",
          "text": [
            " Classification Report\n",
            "\n",
            "\n",
            "\n",
            "              precision    recall  f1-score   support\n",
            "\n",
            "         0.0       0.95      0.79      0.86    365951\n",
            "         1.0       0.52      0.84      0.64     96908\n",
            "\n",
            "    accuracy                           0.80    462859\n",
            "   macro avg       0.73      0.82      0.75    462859\n",
            "weighted avg       0.86      0.80      0.82    462859\n",
            "\n"
          ],
          "name": "stdout"
        }
      ]
    }
  ]
}